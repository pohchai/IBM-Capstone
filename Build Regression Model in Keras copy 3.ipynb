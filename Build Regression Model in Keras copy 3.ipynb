{
    "cells": [
        {
            "cell_type": "markdown",
            "metadata": {},
            "source": "## Build a baseline model"
        },
        {
            "cell_type": "markdown",
            "metadata": {},
            "source": "Download and Clean Dataset"
        },
        {
            "cell_type": "code",
            "execution_count": 74,
            "metadata": {},
            "outputs": [],
            "source": "import pandas as pd\nimport numpy as np"
        },
        {
            "cell_type": "code",
            "execution_count": 75,
            "metadata": {},
            "outputs": [
                {
                    "data": {
                        "text/html": "<div>\n<style scoped>\n    .dataframe tbody tr th:only-of-type {\n        vertical-align: middle;\n    }\n\n    .dataframe tbody tr th {\n        vertical-align: top;\n    }\n\n    .dataframe thead th {\n        text-align: right;\n    }\n</style>\n<table border=\"1\" class=\"dataframe\">\n  <thead>\n    <tr style=\"text-align: right;\">\n      <th></th>\n      <th>Cement</th>\n      <th>Blast Furnace Slag</th>\n      <th>Fly Ash</th>\n      <th>Water</th>\n      <th>Superplasticizer</th>\n      <th>Coarse Aggregate</th>\n      <th>Fine Aggregate</th>\n      <th>Age</th>\n      <th>Strength</th>\n    </tr>\n  </thead>\n  <tbody>\n    <tr>\n      <th>0</th>\n      <td>540.0</td>\n      <td>0.0</td>\n      <td>0.0</td>\n      <td>162.0</td>\n      <td>2.5</td>\n      <td>1040.0</td>\n      <td>676.0</td>\n      <td>28</td>\n      <td>79.99</td>\n    </tr>\n    <tr>\n      <th>1</th>\n      <td>540.0</td>\n      <td>0.0</td>\n      <td>0.0</td>\n      <td>162.0</td>\n      <td>2.5</td>\n      <td>1055.0</td>\n      <td>676.0</td>\n      <td>28</td>\n      <td>61.89</td>\n    </tr>\n    <tr>\n      <th>2</th>\n      <td>332.5</td>\n      <td>142.5</td>\n      <td>0.0</td>\n      <td>228.0</td>\n      <td>0.0</td>\n      <td>932.0</td>\n      <td>594.0</td>\n      <td>270</td>\n      <td>40.27</td>\n    </tr>\n    <tr>\n      <th>3</th>\n      <td>332.5</td>\n      <td>142.5</td>\n      <td>0.0</td>\n      <td>228.0</td>\n      <td>0.0</td>\n      <td>932.0</td>\n      <td>594.0</td>\n      <td>365</td>\n      <td>41.05</td>\n    </tr>\n    <tr>\n      <th>4</th>\n      <td>198.6</td>\n      <td>132.4</td>\n      <td>0.0</td>\n      <td>192.0</td>\n      <td>0.0</td>\n      <td>978.4</td>\n      <td>825.5</td>\n      <td>360</td>\n      <td>44.30</td>\n    </tr>\n  </tbody>\n</table>\n</div>",
                        "text/plain": "   Cement  Blast Furnace Slag  Fly Ash  Water  Superplasticizer  \\\n0   540.0                 0.0      0.0  162.0               2.5   \n1   540.0                 0.0      0.0  162.0               2.5   \n2   332.5               142.5      0.0  228.0               0.0   \n3   332.5               142.5      0.0  228.0               0.0   \n4   198.6               132.4      0.0  192.0               0.0   \n\n   Coarse Aggregate  Fine Aggregate  Age  Strength  \n0            1040.0           676.0   28     79.99  \n1            1055.0           676.0   28     61.89  \n2             932.0           594.0  270     40.27  \n3             932.0           594.0  365     41.05  \n4             978.4           825.5  360     44.30  "
                    },
                    "execution_count": 75,
                    "metadata": {},
                    "output_type": "execute_result"
                }
            ],
            "source": "concrete_data = pd.read_csv('https://cocl.us/concrete_data/concrete_data.csv')\nconcrete_data.head()"
        },
        {
            "cell_type": "markdown",
            "metadata": {},
            "source": "Check the number data points"
        },
        {
            "cell_type": "code",
            "execution_count": 76,
            "metadata": {},
            "outputs": [
                {
                    "data": {
                        "text/plain": "(1030, 9)"
                    },
                    "execution_count": 76,
                    "metadata": {},
                    "output_type": "execute_result"
                }
            ],
            "source": "concrete_data.shape"
        },
        {
            "cell_type": "markdown",
            "metadata": {},
            "source": "Check for missing data"
        },
        {
            "cell_type": "code",
            "execution_count": 77,
            "metadata": {},
            "outputs": [
                {
                    "data": {
                        "text/html": "<div>\n<style scoped>\n    .dataframe tbody tr th:only-of-type {\n        vertical-align: middle;\n    }\n\n    .dataframe tbody tr th {\n        vertical-align: top;\n    }\n\n    .dataframe thead th {\n        text-align: right;\n    }\n</style>\n<table border=\"1\" class=\"dataframe\">\n  <thead>\n    <tr style=\"text-align: right;\">\n      <th></th>\n      <th>Cement</th>\n      <th>Blast Furnace Slag</th>\n      <th>Fly Ash</th>\n      <th>Water</th>\n      <th>Superplasticizer</th>\n      <th>Coarse Aggregate</th>\n      <th>Fine Aggregate</th>\n      <th>Age</th>\n      <th>Strength</th>\n    </tr>\n  </thead>\n  <tbody>\n    <tr>\n      <th>count</th>\n      <td>1030.000000</td>\n      <td>1030.000000</td>\n      <td>1030.000000</td>\n      <td>1030.000000</td>\n      <td>1030.000000</td>\n      <td>1030.000000</td>\n      <td>1030.000000</td>\n      <td>1030.000000</td>\n      <td>1030.000000</td>\n    </tr>\n    <tr>\n      <th>mean</th>\n      <td>281.167864</td>\n      <td>73.895825</td>\n      <td>54.188350</td>\n      <td>181.567282</td>\n      <td>6.204660</td>\n      <td>972.918932</td>\n      <td>773.580485</td>\n      <td>45.662136</td>\n      <td>35.817961</td>\n    </tr>\n    <tr>\n      <th>std</th>\n      <td>104.506364</td>\n      <td>86.279342</td>\n      <td>63.997004</td>\n      <td>21.354219</td>\n      <td>5.973841</td>\n      <td>77.753954</td>\n      <td>80.175980</td>\n      <td>63.169912</td>\n      <td>16.705742</td>\n    </tr>\n    <tr>\n      <th>min</th>\n      <td>102.000000</td>\n      <td>0.000000</td>\n      <td>0.000000</td>\n      <td>121.800000</td>\n      <td>0.000000</td>\n      <td>801.000000</td>\n      <td>594.000000</td>\n      <td>1.000000</td>\n      <td>2.330000</td>\n    </tr>\n    <tr>\n      <th>25%</th>\n      <td>192.375000</td>\n      <td>0.000000</td>\n      <td>0.000000</td>\n      <td>164.900000</td>\n      <td>0.000000</td>\n      <td>932.000000</td>\n      <td>730.950000</td>\n      <td>7.000000</td>\n      <td>23.710000</td>\n    </tr>\n    <tr>\n      <th>50%</th>\n      <td>272.900000</td>\n      <td>22.000000</td>\n      <td>0.000000</td>\n      <td>185.000000</td>\n      <td>6.400000</td>\n      <td>968.000000</td>\n      <td>779.500000</td>\n      <td>28.000000</td>\n      <td>34.445000</td>\n    </tr>\n    <tr>\n      <th>75%</th>\n      <td>350.000000</td>\n      <td>142.950000</td>\n      <td>118.300000</td>\n      <td>192.000000</td>\n      <td>10.200000</td>\n      <td>1029.400000</td>\n      <td>824.000000</td>\n      <td>56.000000</td>\n      <td>46.135000</td>\n    </tr>\n    <tr>\n      <th>max</th>\n      <td>540.000000</td>\n      <td>359.400000</td>\n      <td>200.100000</td>\n      <td>247.000000</td>\n      <td>32.200000</td>\n      <td>1145.000000</td>\n      <td>992.600000</td>\n      <td>365.000000</td>\n      <td>82.600000</td>\n    </tr>\n  </tbody>\n</table>\n</div>",
                        "text/plain": "            Cement  Blast Furnace Slag      Fly Ash        Water  \\\ncount  1030.000000         1030.000000  1030.000000  1030.000000   \nmean    281.167864           73.895825    54.188350   181.567282   \nstd     104.506364           86.279342    63.997004    21.354219   \nmin     102.000000            0.000000     0.000000   121.800000   \n25%     192.375000            0.000000     0.000000   164.900000   \n50%     272.900000           22.000000     0.000000   185.000000   \n75%     350.000000          142.950000   118.300000   192.000000   \nmax     540.000000          359.400000   200.100000   247.000000   \n\n       Superplasticizer  Coarse Aggregate  Fine Aggregate          Age  \\\ncount       1030.000000       1030.000000     1030.000000  1030.000000   \nmean           6.204660        972.918932      773.580485    45.662136   \nstd            5.973841         77.753954       80.175980    63.169912   \nmin            0.000000        801.000000      594.000000     1.000000   \n25%            0.000000        932.000000      730.950000     7.000000   \n50%            6.400000        968.000000      779.500000    28.000000   \n75%           10.200000       1029.400000      824.000000    56.000000   \nmax           32.200000       1145.000000      992.600000   365.000000   \n\n          Strength  \ncount  1030.000000  \nmean     35.817961  \nstd      16.705742  \nmin       2.330000  \n25%      23.710000  \n50%      34.445000  \n75%      46.135000  \nmax      82.600000  "
                    },
                    "execution_count": 77,
                    "metadata": {},
                    "output_type": "execute_result"
                }
            ],
            "source": "concrete_data.describe()"
        },
        {
            "cell_type": "code",
            "execution_count": 78,
            "metadata": {},
            "outputs": [
                {
                    "data": {
                        "text/plain": "Cement                0\nBlast Furnace Slag    0\nFly Ash               0\nWater                 0\nSuperplasticizer      0\nCoarse Aggregate      0\nFine Aggregate        0\nAge                   0\nStrength              0\ndtype: int64"
                    },
                    "execution_count": 78,
                    "metadata": {},
                    "output_type": "execute_result"
                }
            ],
            "source": "concrete_data.isnull().sum()"
        },
        {
            "cell_type": "markdown",
            "metadata": {},
            "source": "Split data into predictors and target"
        },
        {
            "cell_type": "code",
            "execution_count": 79,
            "metadata": {},
            "outputs": [
                {
                    "data": {
                        "text/html": "<div>\n<style scoped>\n    .dataframe tbody tr th:only-of-type {\n        vertical-align: middle;\n    }\n\n    .dataframe tbody tr th {\n        vertical-align: top;\n    }\n\n    .dataframe thead th {\n        text-align: right;\n    }\n</style>\n<table border=\"1\" class=\"dataframe\">\n  <thead>\n    <tr style=\"text-align: right;\">\n      <th></th>\n      <th>Cement</th>\n      <th>Blast Furnace Slag</th>\n      <th>Fly Ash</th>\n      <th>Water</th>\n      <th>Superplasticizer</th>\n      <th>Coarse Aggregate</th>\n      <th>Fine Aggregate</th>\n    </tr>\n  </thead>\n  <tbody>\n    <tr>\n      <th>0</th>\n      <td>540.0</td>\n      <td>0.0</td>\n      <td>0.0</td>\n      <td>162.0</td>\n      <td>2.5</td>\n      <td>1040.0</td>\n      <td>676.0</td>\n    </tr>\n    <tr>\n      <th>1</th>\n      <td>540.0</td>\n      <td>0.0</td>\n      <td>0.0</td>\n      <td>162.0</td>\n      <td>2.5</td>\n      <td>1055.0</td>\n      <td>676.0</td>\n    </tr>\n    <tr>\n      <th>2</th>\n      <td>332.5</td>\n      <td>142.5</td>\n      <td>0.0</td>\n      <td>228.0</td>\n      <td>0.0</td>\n      <td>932.0</td>\n      <td>594.0</td>\n    </tr>\n    <tr>\n      <th>3</th>\n      <td>332.5</td>\n      <td>142.5</td>\n      <td>0.0</td>\n      <td>228.0</td>\n      <td>0.0</td>\n      <td>932.0</td>\n      <td>594.0</td>\n    </tr>\n    <tr>\n      <th>4</th>\n      <td>198.6</td>\n      <td>132.4</td>\n      <td>0.0</td>\n      <td>192.0</td>\n      <td>0.0</td>\n      <td>978.4</td>\n      <td>825.5</td>\n    </tr>\n  </tbody>\n</table>\n</div>",
                        "text/plain": "   Cement  Blast Furnace Slag  Fly Ash  Water  Superplasticizer  \\\n0   540.0                 0.0      0.0  162.0               2.5   \n1   540.0                 0.0      0.0  162.0               2.5   \n2   332.5               142.5      0.0  228.0               0.0   \n3   332.5               142.5      0.0  228.0               0.0   \n4   198.6               132.4      0.0  192.0               0.0   \n\n   Coarse Aggregate  Fine Aggregate  \n0            1040.0           676.0  \n1            1055.0           676.0  \n2             932.0           594.0  \n3             932.0           594.0  \n4             978.4           825.5  "
                    },
                    "execution_count": 79,
                    "metadata": {},
                    "output_type": "execute_result"
                }
            ],
            "source": "concrete_data_columns = concrete_data.columns\n\npredictors_original = concrete_data[concrete_data_columns[concrete_data_columns != 'Strength']] # all columns except Strength\ntarget = concrete_data['Strength'] # Strength column\n\n\npredictors=predictors_original.drop(['Age'], axis=1)\n\npredictors.head()\n"
        },
        {
            "cell_type": "code",
            "execution_count": 80,
            "metadata": {},
            "outputs": [
                {
                    "data": {
                        "text/plain": "0    79.99\n1    61.89\n2    40.27\n3    41.05\n4    44.30\nName: Strength, dtype: float64"
                    },
                    "execution_count": 80,
                    "metadata": {},
                    "output_type": "execute_result"
                }
            ],
            "source": "target.head()"
        },
        {
            "cell_type": "markdown",
            "metadata": {},
            "source": "normalize the data by substracting the mean and dividing by the standard deviation"
        },
        {
            "cell_type": "code",
            "execution_count": 81,
            "metadata": {},
            "outputs": [
                {
                    "data": {
                        "text/plain": "7"
                    },
                    "execution_count": 81,
                    "metadata": {},
                    "output_type": "execute_result"
                }
            ],
            "source": "n_cols = predictors.shape[1] # number of predictors\nn_cols"
        },
        {
            "cell_type": "markdown",
            "metadata": {},
            "source": "Import Keras"
        },
        {
            "cell_type": "code",
            "execution_count": 82,
            "metadata": {},
            "outputs": [],
            "source": "import keras"
        },
        {
            "cell_type": "code",
            "execution_count": 83,
            "metadata": {},
            "outputs": [],
            "source": "from keras.models import Sequential\nfrom keras.layers import Dense"
        },
        {
            "cell_type": "markdown",
            "metadata": {},
            "source": "1. Randomly split the data into a training and test sets by holding 30% of the data for testing. You can use the train_test_splithelper function from Scikit-learn."
        },
        {
            "cell_type": "code",
            "execution_count": 84,
            "metadata": {},
            "outputs": [],
            "source": "from sklearn.model_selection import train_test_split\nX_train, X_test, y_train, y_test = train_test_split(predictors, target, test_size=0.3, random_state=1)"
        },
        {
            "cell_type": "markdown",
            "metadata": {},
            "source": "Build Neural Network"
        },
        {
            "cell_type": "code",
            "execution_count": 85,
            "metadata": {},
            "outputs": [],
            "source": "# define regression model\ndef regression_model():\n    # create model\n    model = Sequential()\n    model.add(Dense(10, activation='relu', input_shape=(n_cols,)))\n    model.add(Dense(1))\n    \n    # compile model\n    model.compile(optimizer='adam', loss='mean_squared_error')\n    return model"
        },
        {
            "cell_type": "markdown",
            "metadata": {},
            "source": "Train and Test Network"
        },
        {
            "cell_type": "code",
            "execution_count": 86,
            "metadata": {},
            "outputs": [],
            "source": "# build the model\nmodel = regression_model()"
        },
        {
            "cell_type": "markdown",
            "metadata": {},
            "source": "2. Train the model on the training data using 50 epochs."
        },
        {
            "cell_type": "code",
            "execution_count": 93,
            "metadata": {},
            "outputs": [
                {
                    "name": "stdout",
                    "output_type": "stream",
                    "text": "Epoch 1/50\n - 0s - loss: 153.8000\nEpoch 2/50\n - 2s - loss: 146.0632\nEpoch 3/50\n - 0s - loss: 145.8434\nEpoch 4/50\n - 0s - loss: 147.6798\nEpoch 5/50\n - 0s - loss: 144.8981\nEpoch 6/50\n - 0s - loss: 140.5029\nEpoch 7/50\n - 0s - loss: 144.3264\nEpoch 8/50\n - 0s - loss: 141.6820\nEpoch 9/50\n - 0s - loss: 141.9988\nEpoch 10/50\n - 0s - loss: 141.8303\nEpoch 11/50\n - 0s - loss: 145.6570\nEpoch 12/50\n - 0s - loss: 142.6933\nEpoch 13/50\n - 0s - loss: 143.1172\nEpoch 14/50\n - 0s - loss: 141.1026\nEpoch 15/50\n - 0s - loss: 149.7832\nEpoch 16/50\n - 0s - loss: 140.7436\nEpoch 17/50\n - 0s - loss: 140.2203\nEpoch 18/50\n - 0s - loss: 143.1115\nEpoch 19/50\n - 0s - loss: 143.0755\nEpoch 20/50\n - 0s - loss: 143.8451\nEpoch 21/50\n - 0s - loss: 146.3962\nEpoch 22/50\n - 0s - loss: 147.6137\nEpoch 23/50\n - 0s - loss: 150.8606\nEpoch 24/50\n - 0s - loss: 146.7634\nEpoch 25/50\n - 0s - loss: 148.4674\nEpoch 26/50\n - 0s - loss: 151.0694\nEpoch 27/50\n - 0s - loss: 142.6530\nEpoch 28/50\n - 0s - loss: 142.0051\nEpoch 29/50\n - 0s - loss: 146.7952\nEpoch 30/50\n - 0s - loss: 145.2450\nEpoch 31/50\n - 0s - loss: 149.6745\nEpoch 32/50\n - 0s - loss: 142.7274\nEpoch 33/50\n - 0s - loss: 139.8061\nEpoch 34/50\n - 0s - loss: 149.4996\nEpoch 35/50\n - 0s - loss: 139.1765\nEpoch 36/50\n - 0s - loss: 143.2919\nEpoch 37/50\n - 0s - loss: 140.7469\nEpoch 38/50\n - 0s - loss: 145.5999\nEpoch 39/50\n - 0s - loss: 163.8970\nEpoch 40/50\n - 0s - loss: 148.8955\nEpoch 41/50\n - 0s - loss: 143.5998\nEpoch 42/50\n - 0s - loss: 143.3881\nEpoch 43/50\n - 0s - loss: 145.7174\nEpoch 44/50\n - 0s - loss: 143.0003\nEpoch 45/50\n - 0s - loss: 147.6682\nEpoch 46/50\n - 2s - loss: 141.7365\nEpoch 47/50\n - 0s - loss: 142.9248\nEpoch 48/50\n - 0s - loss: 141.6363\nEpoch 49/50\n - 0s - loss: 147.3187\nEpoch 50/50\n - 0s - loss: 140.8515\n"
                },
                {
                    "data": {
                        "text/plain": "<keras.callbacks.History at 0x7f970c0ebbe0>"
                    },
                    "execution_count": 93,
                    "metadata": {},
                    "output_type": "execute_result"
                }
            ],
            "source": "model.fit(X_train, y_train, epochs=50, verbose = 2)"
        },
        {
            "cell_type": "markdown",
            "metadata": {},
            "source": "3. Evaluate the model on the test data and compute the mean squared error between the predicted concrete strength a\nnd the actual concrete strength. You can use the mean_squared_error function from Scikit-learn."
        },
        {
            "cell_type": "code",
            "execution_count": 88,
            "metadata": {},
            "outputs": [],
            "source": "y_pred = model.predict(X_test)"
        },
        {
            "cell_type": "code",
            "execution_count": 90,
            "metadata": {},
            "outputs": [
                {
                    "data": {
                        "text/plain": "187.40725022151216"
                    },
                    "execution_count": 90,
                    "metadata": {},
                    "output_type": "execute_result"
                }
            ],
            "source": "from sklearn.metrics import mean_squared_error\nmean_squared_error(y_test, y_pred)"
        },
        {
            "cell_type": "markdown",
            "metadata": {},
            "source": "4. Repeat steps 1 - 3, 50 times, i.e., create a list of 50 mean squared errors."
        },
        {
            "cell_type": "code",
            "execution_count": 91,
            "metadata": {},
            "outputs": [
                {
                    "name": "stdout",
                    "output_type": "stream",
                    "text": "Mean Squared Errors 1: 147.21908908945682\nMean Squared Errors 2: 170.77864563630808\nMean Squared Errors 3: 165.83656691615437\nMean Squared Errors 4: 193.1965761551997\nMean Squared Errors 5: 206.1529628757807\nMean Squared Errors 6: 148.6784562318663\nMean Squared Errors 7: 177.38221390982457\nMean Squared Errors 8: 169.46838921630862\nMean Squared Errors 9: 166.58611486085871\nMean Squared Errors 10: 181.590903973799\nMean Squared Errors 11: 152.12546229670002\nMean Squared Errors 12: 139.82840763929917\nMean Squared Errors 13: 153.89712818284684\nMean Squared Errors 14: 180.1915665174726\nMean Squared Errors 15: 148.81992086906592\nMean Squared Errors 16: 133.1968741141545\nMean Squared Errors 17: 144.35536205638215\nMean Squared Errors 18: 128.31863949633725\nMean Squared Errors 19: 135.76382939449712\nMean Squared Errors 20: 162.66676621290122\nMean Squared Errors 21: 140.95777869681814\nMean Squared Errors 22: 146.55874716743668\nMean Squared Errors 23: 148.4929877714111\nMean Squared Errors 24: 147.35061827510737\nMean Squared Errors 25: 133.5544601322308\nMean Squared Errors 26: 136.78438872463983\nMean Squared Errors 27: 157.01133036989378\nMean Squared Errors 28: 149.74464010396244\nMean Squared Errors 29: 150.5112824268566\nMean Squared Errors 30: 140.20748099529982\nMean Squared Errors 31: 136.64908973041238\nMean Squared Errors 32: 163.51619514335235\nMean Squared Errors 33: 150.3720507336387\nMean Squared Errors 34: 136.67832416275914\nMean Squared Errors 35: 176.02497503862193\nMean Squared Errors 36: 162.26948856544726\nMean Squared Errors 37: 151.10913123063725\nMean Squared Errors 38: 151.25655326420463\nMean Squared Errors 39: 147.27213635917917\nMean Squared Errors 40: 136.59996389856\nMean Squared Errors 41: 136.19978487548954\nMean Squared Errors 42: 142.053069879491\nMean Squared Errors 43: 152.36656621178977\nMean Squared Errors 44: 178.01357336712945\nMean Squared Errors 45: 147.5099607036128\nMean Squared Errors 46: 142.36028494354443\nMean Squared Errors 47: 143.71560887986814\nMean Squared Errors 48: 160.7555736872666\nMean Squared Errors 49: 141.61868695498924\nMean Squared Errors 50: 147.5504229326464\n"
                }
            ],
            "source": "MSE = []\n\nfor i in range(0, 50):\n    X_train, X_test, y_train, y_test = train_test_split(predictors, target, test_size=0.3, random_state=i)\n    model.fit(X_train, y_train, epochs=50, verbose=0)\n    y_pred = model.predict(X_test)\n    mean_square_error = mean_squared_error(y_test, y_pred)\n    print(\"Mean Squared Errors \"+str(i+1)+\": \"+str(mean_square_error ))\n    MSE.append(mean_square_error)"
        },
        {
            "cell_type": "code",
            "execution_count": 94,
            "metadata": {},
            "outputs": [
                {
                    "name": "stdout",
                    "output_type": "stream",
                    "text": "mean of mean squared errors.: 153.2223806174302\nstandard deviation of mean squared errors.: 16.350439942905588\n"
                }
            ],
            "source": "MSE = np.array(MSE)\nmeanMSE = np.mean(MSE)\nstdevMSE = np.std(MSE)\n\nprint(\"mean of mean squared errors.: \"+str(meanMSE))\nprint(\"standard deviation of mean squared errors.: \"+str(stdevMSE))"
        },
        {
            "cell_type": "markdown",
            "metadata": {},
            "source": "## B. Normalize the data"
        },
        {
            "cell_type": "code",
            "execution_count": 44,
            "metadata": {},
            "outputs": [
                {
                    "data": {
                        "text/plain": "0    2.644123\n1    1.560663\n2    0.266498\n3    0.313188\n4    0.507732\nName: Strength, dtype: float64"
                    },
                    "execution_count": 44,
                    "metadata": {},
                    "output_type": "execute_result"
                }
            ],
            "source": "target_norm = (target-target.mean())/target.std()\ntarget_norm.head()"
        },
        {
            "cell_type": "code",
            "execution_count": 95,
            "metadata": {},
            "outputs": [
                {
                    "data": {
                        "text/html": "<div>\n<style scoped>\n    .dataframe tbody tr th:only-of-type {\n        vertical-align: middle;\n    }\n\n    .dataframe tbody tr th {\n        vertical-align: top;\n    }\n\n    .dataframe thead th {\n        text-align: right;\n    }\n</style>\n<table border=\"1\" class=\"dataframe\">\n  <thead>\n    <tr style=\"text-align: right;\">\n      <th></th>\n      <th>Cement</th>\n      <th>Blast Furnace Slag</th>\n      <th>Fly Ash</th>\n      <th>Water</th>\n      <th>Superplasticizer</th>\n      <th>Coarse Aggregate</th>\n      <th>Fine Aggregate</th>\n    </tr>\n  </thead>\n  <tbody>\n    <tr>\n      <th>0</th>\n      <td>2.476712</td>\n      <td>-0.856472</td>\n      <td>-0.846733</td>\n      <td>-0.916319</td>\n      <td>-0.620147</td>\n      <td>0.862735</td>\n      <td>-1.217079</td>\n    </tr>\n    <tr>\n      <th>1</th>\n      <td>2.476712</td>\n      <td>-0.856472</td>\n      <td>-0.846733</td>\n      <td>-0.916319</td>\n      <td>-0.620147</td>\n      <td>1.055651</td>\n      <td>-1.217079</td>\n    </tr>\n    <tr>\n      <th>2</th>\n      <td>0.491187</td>\n      <td>0.795140</td>\n      <td>-0.846733</td>\n      <td>2.174405</td>\n      <td>-1.038638</td>\n      <td>-0.526262</td>\n      <td>-2.239829</td>\n    </tr>\n    <tr>\n      <th>3</th>\n      <td>0.491187</td>\n      <td>0.795140</td>\n      <td>-0.846733</td>\n      <td>2.174405</td>\n      <td>-1.038638</td>\n      <td>-0.526262</td>\n      <td>-2.239829</td>\n    </tr>\n    <tr>\n      <th>4</th>\n      <td>-0.790075</td>\n      <td>0.678079</td>\n      <td>-0.846733</td>\n      <td>0.488555</td>\n      <td>-1.038638</td>\n      <td>0.070492</td>\n      <td>0.647569</td>\n    </tr>\n  </tbody>\n</table>\n</div>",
                        "text/plain": "     Cement  Blast Furnace Slag   Fly Ash     Water  Superplasticizer  \\\n0  2.476712           -0.856472 -0.846733 -0.916319         -0.620147   \n1  2.476712           -0.856472 -0.846733 -0.916319         -0.620147   \n2  0.491187            0.795140 -0.846733  2.174405         -1.038638   \n3  0.491187            0.795140 -0.846733  2.174405         -1.038638   \n4 -0.790075            0.678079 -0.846733  0.488555         -1.038638   \n\n   Coarse Aggregate  Fine Aggregate  \n0          0.862735       -1.217079  \n1          1.055651       -1.217079  \n2         -0.526262       -2.239829  \n3         -0.526262       -2.239829  \n4          0.070492        0.647569  "
                    },
                    "execution_count": 95,
                    "metadata": {},
                    "output_type": "execute_result"
                }
            ],
            "source": "predictors_norm = (predictors - predictors.mean()) / predictors.std()\npredictors_norm.head()"
        },
        {
            "cell_type": "markdown",
            "metadata": {},
            "source": "1. Randomly split the data into a training and test sets by holding 30% of the data for testing. You can use the train_test_splithelper function from Scikit-learn."
        },
        {
            "cell_type": "code",
            "execution_count": 96,
            "metadata": {},
            "outputs": [],
            "source": "X_norm_train, X_norm_test, y_train, y_test = train_test_split(predictors_norm, target, test_size=0.3, random_state=1)"
        },
        {
            "cell_type": "markdown",
            "metadata": {},
            "source": "2. Train the model on the training data using 50 epochs."
        },
        {
            "cell_type": "code",
            "execution_count": 97,
            "metadata": {},
            "outputs": [],
            "source": "# build the model\nmodel_norm = regression_model()"
        },
        {
            "cell_type": "code",
            "execution_count": 98,
            "metadata": {},
            "outputs": [
                {
                    "name": "stdout",
                    "output_type": "stream",
                    "text": "Epoch 1/50\n - 1s - loss: 1523.8225\nEpoch 2/50\n - 0s - loss: 1506.2397\nEpoch 3/50\n - 0s - loss: 1488.5263\nEpoch 4/50\n - 0s - loss: 1470.5080\nEpoch 5/50\n - 0s - loss: 1452.0606\nEpoch 6/50\n - 0s - loss: 1432.9811\nEpoch 7/50\n - 0s - loss: 1413.4622\nEpoch 8/50\n - 0s - loss: 1392.8337\nEpoch 9/50\n - 0s - loss: 1371.4814\nEpoch 10/50\n - 0s - loss: 1349.5119\nEpoch 11/50\n - 0s - loss: 1326.4411\nEpoch 12/50\n - 0s - loss: 1302.6084\nEpoch 13/50\n - 0s - loss: 1277.2249\nEpoch 14/50\n - 0s - loss: 1250.6801\nEpoch 15/50\n - 0s - loss: 1223.2902\nEpoch 16/50\n - 0s - loss: 1194.1211\nEpoch 17/50\n - 0s - loss: 1164.7230\nEpoch 18/50\n - 0s - loss: 1134.0171\nEpoch 19/50\n - 0s - loss: 1102.5256\nEpoch 20/50\n - 0s - loss: 1070.2239\nEpoch 21/50\n - 0s - loss: 1037.4841\nEpoch 22/50\n - 0s - loss: 1004.6032\nEpoch 23/50\n - 0s - loss: 971.2520\nEpoch 24/50\n - 0s - loss: 937.9457\nEpoch 25/50\n - 0s - loss: 904.4083\nEpoch 26/50\n - 0s - loss: 870.6850\nEpoch 27/50\n - 0s - loss: 837.8361\nEpoch 28/50\n - 0s - loss: 804.6731\nEpoch 29/50\n - 0s - loss: 772.4983\nEpoch 30/50\n - 0s - loss: 740.3853\nEpoch 31/50\n - 0s - loss: 709.1519\nEpoch 32/50\n - 0s - loss: 678.6528\nEpoch 33/50\n - 1s - loss: 648.9661\nEpoch 34/50\n - 0s - loss: 619.8524\nEpoch 35/50\n - 0s - loss: 592.0617\nEpoch 36/50\n - 0s - loss: 565.0178\nEpoch 37/50\n - 0s - loss: 539.0266\nEpoch 38/50\n - 0s - loss: 513.7898\nEpoch 39/50\n - 0s - loss: 490.1078\nEpoch 40/50\n - 0s - loss: 467.4267\nEpoch 41/50\n - 0s - loss: 445.5926\nEpoch 42/50\n - 0s - loss: 425.0297\nEpoch 43/50\n - 0s - loss: 405.5866\nEpoch 44/50\n - 0s - loss: 387.3416\nEpoch 45/50\n - 0s - loss: 369.9767\nEpoch 46/50\n - 0s - loss: 353.9376\nEpoch 47/50\n - 0s - loss: 338.7928\nEpoch 48/50\n - 0s - loss: 325.0227\nEpoch 49/50\n - 0s - loss: 311.9907\nEpoch 50/50\n - 0s - loss: 299.9976\n"
                },
                {
                    "data": {
                        "text/plain": "<keras.callbacks.History at 0x7f970c0452e8>"
                    },
                    "execution_count": 98,
                    "metadata": {},
                    "output_type": "execute_result"
                }
            ],
            "source": "model_norm.fit(X_norm_train, y_train, epochs=50, verbose = 2)"
        },
        {
            "cell_type": "markdown",
            "metadata": {},
            "source": "3. Evaluate the model on the test data and compute the mean squared error between the predicted concrete strength and the actual concrete strength. You can use the mean_squared_error function from Scikit-learn."
        },
        {
            "cell_type": "code",
            "execution_count": 103,
            "metadata": {},
            "outputs": [],
            "source": "y_pred_norm = model_norm.predict(X_norm_test)"
        },
        {
            "cell_type": "code",
            "execution_count": 104,
            "metadata": {},
            "outputs": [
                {
                    "data": {
                        "text/plain": "315.4913759441846"
                    },
                    "execution_count": 104,
                    "metadata": {},
                    "output_type": "execute_result"
                }
            ],
            "source": "from sklearn.metrics import mean_squared_error\nmean_squared_error(y_test, y_pred_norm)"
        },
        {
            "cell_type": "markdown",
            "metadata": {},
            "source": "4. Repeat steps 1 - 3, 50 times, i.e., create a list of 50 mean squared errors."
        },
        {
            "cell_type": "code",
            "execution_count": 114,
            "metadata": {},
            "outputs": [
                {
                    "name": "stdout",
                    "output_type": "stream",
                    "text": "Mean Squared Errors for normalised predictors 1: 113.33687475658795\nMean Squared Errors for normalised predictors 2: 123.05701891458105\nMean Squared Errors for normalised predictors 3: 135.77477703516297\nMean Squared Errors for normalised predictors 4: 143.08386684493743\nMean Squared Errors for normalised predictors 5: 137.92025329057415\nMean Squared Errors for normalised predictors 6: 105.27905131483374\nMean Squared Errors for normalised predictors 7: 139.30877442344706\nMean Squared Errors for normalised predictors 8: 116.01000865936578\nMean Squared Errors for normalised predictors 9: 131.96574309410929\nMean Squared Errors for normalised predictors 10: 130.8008610020763\nMean Squared Errors for normalised predictors 11: 123.025984460049\nMean Squared Errors for normalised predictors 12: 118.09301788195165\nMean Squared Errors for normalised predictors 13: 114.8556024874869\nMean Squared Errors for normalised predictors 14: 127.73030573255653\nMean Squared Errors for normalised predictors 15: 116.98244715134312\nMean Squared Errors for normalised predictors 16: 105.9721468926145\nMean Squared Errors for normalised predictors 17: 118.39639320287499\nMean Squared Errors for normalised predictors 18: 99.85523674197526\nMean Squared Errors for normalised predictors 19: 115.28286276748058\nMean Squared Errors for normalised predictors 20: 127.27318310394696\nMean Squared Errors for normalised predictors 21: 112.16967870531033\nMean Squared Errors for normalised predictors 22: 120.66045722002396\nMean Squared Errors for normalised predictors 23: 120.27984932502278\nMean Squared Errors for normalised predictors 24: 118.77157122518642\nMean Squared Errors for normalised predictors 25: 107.1314517945998\nMean Squared Errors for normalised predictors 26: 116.05450485220773\nMean Squared Errors for normalised predictors 27: 138.6880205056307\nMean Squared Errors for normalised predictors 28: 128.01385091118627\nMean Squared Errors for normalised predictors 29: 127.45365618202315\nMean Squared Errors for normalised predictors 30: 118.7104906479719\nMean Squared Errors for normalised predictors 31: 115.58690318914338\nMean Squared Errors for normalised predictors 32: 133.1062054027037\nMean Squared Errors for normalised predictors 33: 120.03269135318847\nMean Squared Errors for normalised predictors 34: 122.93435659790394\nMean Squared Errors for normalised predictors 35: 126.11465195478412\nMean Squared Errors for normalised predictors 36: 135.18221241829937\nMean Squared Errors for normalised predictors 37: 126.32588278519175\nMean Squared Errors for normalised predictors 38: 122.72264076840953\nMean Squared Errors for normalised predictors 39: 119.0965806127177\nMean Squared Errors for normalised predictors 40: 112.86283850276389\nMean Squared Errors for normalised predictors 41: 110.69309502709461\nMean Squared Errors for normalised predictors 42: 122.83971843266687\nMean Squared Errors for normalised predictors 43: 129.45992288086416\nMean Squared Errors for normalised predictors 44: 123.63145579650903\nMean Squared Errors for normalised predictors 45: 123.95591597876887\nMean Squared Errors for normalised predictors 46: 115.15836625191513\nMean Squared Errors for normalised predictors 47: 113.65597675874818\nMean Squared Errors for normalised predictors 48: 128.393940819104\nMean Squared Errors for normalised predictors 49: 115.70200487912636\nMean Squared Errors for normalised predictors 50: 124.02639429253945\n"
                }
            ],
            "source": "MSE_norm = []\n\nfor i in range(0, 50):\n    X_norm_train, X_norm_test, y_train, y_test = train_test_split(predictors_norm, target, test_size=0.3, random_state=i)\n    model_norm.fit(X_norm_train, y_train, epochs=50, verbose=0)\n    y_pred_norm = model_norm.predict(X_norm_test)\n    mean_square_error = mean_squared_error(y_test, y_pred_norm)\n    print(\"Mean Squared Errors for normalised predictors \"+str(i+1)+\": \"+str(mean_square_error ))\n    MSE_norm.append(mean_square_error)"
        },
        {
            "cell_type": "code",
            "execution_count": 115,
            "metadata": {},
            "outputs": [
                {
                    "name": "stdout",
                    "output_type": "stream",
                    "text": "mean of mean squared errors with normalised predictors : 121.86839391659122\nstandard deviation of mean squared errors with normalised predictors : 9.273328333374813\n"
                }
            ],
            "source": "MSE_norm = np.array(MSE_norm)\nmeanMSE_norm = np.mean(MSE_norm)\nstdevMSE_norm = np.std(MSE_norm)\n\nprint(\"mean of mean squared errors with normalised predictors : \"+str(meanMSE_norm))\nprint(\"standard deviation of mean squared errors with normalised predictors : \"+str(stdevMSE_norm))"
        },
        {
            "cell_type": "markdown",
            "metadata": {},
            "source": "### How does the mean of the mean squared errors compare to that from Step A?"
        },
        {
            "cell_type": "markdown",
            "metadata": {},
            "source": "The original data Mean of MSE is 153.22, Standard Deviation of MSE is 16.35.\nwith normalised predictors, the mean of MSE increased to 121.87 and standard deviation of MSE increased to 9.27.\n\nWith normalised predictors, the mean of the mean squared errors in Step B is lower than that in Step A."
        },
        {
            "cell_type": "markdown",
            "metadata": {},
            "source": "## C. Increate the number of epochs to 100 for training, repeat Part B"
        },
        {
            "cell_type": "markdown",
            "metadata": {},
            "source": "2. Train the model on the training data using 100 epochs."
        },
        {
            "cell_type": "code",
            "execution_count": 116,
            "metadata": {},
            "outputs": [
                {
                    "name": "stdout",
                    "output_type": "stream",
                    "text": "Epoch 1/100\n - 1s - loss: 1585.6552\nEpoch 2/100\n - 0s - loss: 1568.2863\nEpoch 3/100\n - 0s - loss: 1550.6186\nEpoch 4/100\n - 0s - loss: 1533.0341\nEpoch 5/100\n - 0s - loss: 1515.2242\nEpoch 6/100\n - 0s - loss: 1497.1624\nEpoch 7/100\n - 0s - loss: 1479.1096\nEpoch 8/100\n - 0s - loss: 1460.6509\nEpoch 9/100\n - 0s - loss: 1441.4395\nEpoch 10/100\n - 0s - loss: 1421.5909\nEpoch 11/100\n - 0s - loss: 1401.2129\nEpoch 12/100\n - 0s - loss: 1380.2374\nEpoch 13/100\n - 0s - loss: 1358.6043\nEpoch 14/100\n - 0s - loss: 1336.3910\nEpoch 15/100\n - 0s - loss: 1313.5046\nEpoch 16/100\n - 0s - loss: 1290.1337\nEpoch 17/100\n - 0s - loss: 1266.0712\nEpoch 18/100\n - 0s - loss: 1240.9391\nEpoch 19/100\n - 0s - loss: 1215.4129\nEpoch 20/100\n - 0s - loss: 1188.6407\nEpoch 21/100\n - 0s - loss: 1161.5664\nEpoch 22/100\n - 0s - loss: 1133.4698\nEpoch 23/100\n - 0s - loss: 1105.4324\nEpoch 24/100\n - 0s - loss: 1076.6273\nEpoch 25/100\n - 0s - loss: 1047.5740\nEpoch 26/100\n - 0s - loss: 1017.7968\nEpoch 27/100\n - 0s - loss: 987.9217\nEpoch 28/100\n - 0s - loss: 958.2512\nEpoch 29/100\n - 0s - loss: 927.5919\nEpoch 30/100\n - 0s - loss: 897.1965\nEpoch 31/100\n - 0s - loss: 867.6704\nEpoch 32/100\n - 0s - loss: 837.8313\nEpoch 33/100\n - 0s - loss: 808.6809\nEpoch 34/100\n - 0s - loss: 779.8019\nEpoch 35/100\n - 0s - loss: 751.2101\nEpoch 36/100\n - 0s - loss: 723.7487\nEpoch 37/100\n - 0s - loss: 696.8335\nEpoch 38/100\n - 0s - loss: 670.4301\nEpoch 39/100\n - 0s - loss: 645.0974\nEpoch 40/100\n - 0s - loss: 620.9974\nEpoch 41/100\n - 0s - loss: 596.8645\nEpoch 42/100\n - 0s - loss: 574.1704\nEpoch 43/100\n - 0s - loss: 552.6293\nEpoch 44/100\n - 0s - loss: 531.5912\nEpoch 45/100\n - 0s - loss: 511.5414\nEpoch 46/100\n - 0s - loss: 491.9941\nEpoch 47/100\n - 0s - loss: 473.7815\nEpoch 48/100\n - 0s - loss: 455.7500\nEpoch 49/100\n - 0s - loss: 438.7979\nEpoch 50/100\n - 0s - loss: 422.7345\nEpoch 51/100\n - 0s - loss: 407.7046\nEpoch 52/100\n - 0s - loss: 393.3295\nEpoch 53/100\n - 0s - loss: 380.1966\nEpoch 54/100\n - 0s - loss: 367.5614\nEpoch 55/100\n - 0s - loss: 355.7757\nEpoch 56/100\n - 0s - loss: 344.9470\nEpoch 57/100\n - 0s - loss: 334.3220\nEpoch 58/100\n - 0s - loss: 324.8590\nEpoch 59/100\n - 0s - loss: 315.7089\nEpoch 60/100\n - 0s - loss: 307.1649\nEpoch 61/100\n - 0s - loss: 299.0064\nEpoch 62/100\n - 0s - loss: 291.3857\nEpoch 63/100\n - 0s - loss: 284.3258\nEpoch 64/100\n - 0s - loss: 277.5901\nEpoch 65/100\n - 0s - loss: 270.9500\nEpoch 66/100\n - 0s - loss: 265.0782\nEpoch 67/100\n - 0s - loss: 259.4703\nEpoch 68/100\n - 0s - loss: 254.3057\nEpoch 69/100\n - 0s - loss: 249.5691\nEpoch 70/100\n - 0s - loss: 245.0386\nEpoch 71/100\n - 0s - loss: 240.8633\nEpoch 72/100\n - 0s - loss: 237.0396\nEpoch 73/100\n - 0s - loss: 233.4443\nEpoch 74/100\n - 4s - loss: 230.1602\nEpoch 75/100\n - 0s - loss: 227.0942\nEpoch 76/100\n - 0s - loss: 224.3786\nEpoch 77/100\n - 0s - loss: 221.7353\nEpoch 78/100\n - 0s - loss: 219.2925\nEpoch 79/100\n - 0s - loss: 217.0234\nEpoch 80/100\n - 0s - loss: 215.1116\nEpoch 81/100\n - 0s - loss: 213.0817\nEpoch 82/100\n - 0s - loss: 211.3553\nEpoch 83/100\n - 0s - loss: 209.7252\nEpoch 84/100\n - 0s - loss: 208.2607\nEpoch 85/100\n - 0s - loss: 206.9398\nEpoch 86/100\n - 0s - loss: 205.5374\nEpoch 87/100\n - 0s - loss: 204.3035\nEpoch 88/100\n - 0s - loss: 203.1541\nEpoch 89/100\n - 0s - loss: 202.1006\nEpoch 90/100\n - 0s - loss: 201.0391\nEpoch 91/100\n - 0s - loss: 200.0928\nEpoch 92/100\n - 0s - loss: 199.2209\nEpoch 93/100\n - 0s - loss: 198.3799\nEpoch 94/100\n - 0s - loss: 197.5485\nEpoch 95/100\n - 0s - loss: 196.7926\nEpoch 96/100\n - 0s - loss: 196.0626\nEpoch 97/100\n - 0s - loss: 195.4237\nEpoch 98/100\n - 0s - loss: 194.7941\nEpoch 99/100\n - 0s - loss: 194.2100\nEpoch 100/100\n - 0s - loss: 193.5939\n"
                },
                {
                    "data": {
                        "text/plain": "<keras.callbacks.History at 0x7f96cc176198>"
                    },
                    "execution_count": 116,
                    "metadata": {},
                    "output_type": "execute_result"
                }
            ],
            "source": "model_norm_100 = regression_model()\n\nmodel_norm_100.fit(X_norm_train, y_train, epochs=100, verbose = 2)"
        },
        {
            "cell_type": "markdown",
            "metadata": {},
            "source": "3. Evaluate the model on the test data and compute the mean squared error between the predicted concrete strength and the actual concrete strength. You can use the mean_squared_error function from Scikit-learn."
        },
        {
            "cell_type": "code",
            "execution_count": 117,
            "metadata": {},
            "outputs": [],
            "source": "y_pred_norm_100 = model_norm_100.predict(X_norm_test)"
        },
        {
            "cell_type": "code",
            "execution_count": 118,
            "metadata": {},
            "outputs": [
                {
                    "data": {
                        "text/plain": "196.3015919957497"
                    },
                    "execution_count": 118,
                    "metadata": {},
                    "output_type": "execute_result"
                }
            ],
            "source": "mean_squared_error(y_test, y_pred_norm_100)"
        },
        {
            "cell_type": "markdown",
            "metadata": {},
            "source": "4. Repeat steps 1 - 3, 50 times, i.e., create a list of 50 mean squared errors."
        },
        {
            "cell_type": "code",
            "execution_count": 119,
            "metadata": {},
            "outputs": [
                {
                    "name": "stdout",
                    "output_type": "stream",
                    "text": "Mean Squared Errors for normalised predictors 1: 146.51750500505528\nMean Squared Errors for normalised predictors 2: 148.1914934871058\nMean Squared Errors for normalised predictors 3: 148.04445390029744\nMean Squared Errors for normalised predictors 4: 161.89726210219746\nMean Squared Errors for normalised predictors 5: 153.1681926982695\nMean Squared Errors for normalised predictors 6: 121.29631585391425\nMean Squared Errors for normalised predictors 7: 156.73130728408174\nMean Squared Errors for normalised predictors 8: 130.47661608177734\nMean Squared Errors for normalised predictors 9: 145.4140247161987\nMean Squared Errors for normalised predictors 10: 143.23655237067945\nMean Squared Errors for normalised predictors 11: 131.6557069433074\nMean Squared Errors for normalised predictors 12: 126.12721730781391\nMean Squared Errors for normalised predictors 13: 128.07462309672565\nMean Squared Errors for normalised predictors 14: 142.88589396955803\nMean Squared Errors for normalised predictors 15: 129.66923454447974\nMean Squared Errors for normalised predictors 16: 116.24542845896839\nMean Squared Errors for normalised predictors 17: 128.31546487320978\nMean Squared Errors for normalised predictors 18: 106.17652138266338\nMean Squared Errors for normalised predictors 19: 121.32612264252971\nMean Squared Errors for normalised predictors 20: 135.82786930379157\nMean Squared Errors for normalised predictors 21: 117.81070194880118\nMean Squared Errors for normalised predictors 22: 132.67731134530305\nMean Squared Errors for normalised predictors 23: 134.1890008711094\nMean Squared Errors for normalised predictors 24: 126.24278167316967\nMean Squared Errors for normalised predictors 25: 117.01562913721509\nMean Squared Errors for normalised predictors 26: 123.38973416228194\nMean Squared Errors for normalised predictors 27: 148.87221608861023\nMean Squared Errors for normalised predictors 28: 132.27367251941482\nMean Squared Errors for normalised predictors 29: 137.07679203031566\nMean Squared Errors for normalised predictors 30: 127.37308276317361\nMean Squared Errors for normalised predictors 31: 124.29656771574551\nMean Squared Errors for normalised predictors 32: 140.4167669208618\nMean Squared Errors for normalised predictors 33: 125.21465999341244\nMean Squared Errors for normalised predictors 34: 128.2484547338222\nMean Squared Errors for normalised predictors 35: 136.08375827725226\nMean Squared Errors for normalised predictors 36: 144.93250214819315\nMean Squared Errors for normalised predictors 37: 130.3148306700746\nMean Squared Errors for normalised predictors 38: 126.28995614591591\nMean Squared Errors for normalised predictors 39: 128.69413310102036\nMean Squared Errors for normalised predictors 40: 116.53427409192012\nMean Squared Errors for normalised predictors 41: 116.35155262383732\nMean Squared Errors for normalised predictors 42: 130.7061897687728\nMean Squared Errors for normalised predictors 43: 137.4763221770722\nMean Squared Errors for normalised predictors 44: 134.52977169403718\nMean Squared Errors for normalised predictors 45: 133.8595416280829\nMean Squared Errors for normalised predictors 46: 122.23044594180833\nMean Squared Errors for normalised predictors 47: 120.57308954529654\nMean Squared Errors for normalised predictors 48: 137.8324068332914\nMean Squared Errors for normalised predictors 49: 125.38761267602294\nMean Squared Errors for normalised predictors 50: 133.31327778453667\n"
                }
            ],
            "source": "MSE_norm_100 = []\n\nfor i in range(0, 50):\n    X_norm_train, X_norm_test, y_train, y_test = train_test_split(predictors_norm, target, test_size=0.3, random_state=i)\n    model_norm_100.fit(X_norm_train, y_train, epochs=100, verbose=0)\n    y_pred_norm_100 = model_norm_100.predict(X_norm_test)\n    mean_square_error = mean_squared_error(y_test, y_pred_norm_100)\n    print(\"Mean Squared Errors for normalised predictors \"+str(i+1)+\": \"+str(mean_square_error ))\n    MSE_norm_100.append(mean_square_error)"
        },
        {
            "cell_type": "code",
            "execution_count": 120,
            "metadata": {},
            "outputs": [
                {
                    "name": "stdout",
                    "output_type": "stream",
                    "text": "mean of mean squared errors with normalised predictors with epoch = 100 : 132.2296968606599\nstandard deviation of mean squared errors with normalised predictors with epoch = 100 : 11.364451589923386\n"
                }
            ],
            "source": "MSE_norm_100 = np.array(MSE_norm_100)\nmeanMSE_norm_100 = np.mean(MSE_norm_100)\nstdevMSE_norm_100 = np.std(MSE_norm_100)\n\nprint(\"mean of mean squared errors with normalised predictors with epoch = 100 : \"+str(meanMSE_norm_100))\nprint(\"standard deviation of mean squared errors with normalised predictors with epoch = 100 : \"+str(stdevMSE_norm_100))"
        },
        {
            "cell_type": "markdown",
            "metadata": {},
            "source": "How does the mean of the mean squared errors compare to that from Step B?"
        },
        {
            "cell_type": "markdown",
            "metadata": {},
            "source": "The mean of mean squared errors in Step C (with epoch = 100) is 132.23, larger than that from Step B at 121.87."
        }
    ],
    "metadata": {
        "kernelspec": {
            "display_name": "Python 3.6",
            "language": "python",
            "name": "python3"
        },
        "language_info": {
            "codemirror_mode": {
                "name": "ipython",
                "version": 3
            },
            "file_extension": ".py",
            "mimetype": "text/x-python",
            "name": "python",
            "nbconvert_exporter": "python",
            "pygments_lexer": "ipython3",
            "version": "3.6.9"
        }
    },
    "nbformat": 4,
    "nbformat_minor": 1
}